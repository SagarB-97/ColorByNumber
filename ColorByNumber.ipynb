{
 "cells": [
  {
   "cell_type": "code",
   "execution_count": null,
   "id": "44153707-a329-46d4-8eda-d0ffe1304999",
   "metadata": {},
   "outputs": [],
   "source": [
    "from colorbynumber.main import ColorByNumber\n",
    "from colorbynumber import utils"
   ]
  },
  {
   "cell_type": "code",
   "execution_count": null,
   "id": "497a508a-87fc-49f7-baca-3505ff0b57f1",
   "metadata": {},
   "outputs": [],
   "source": [
    "# Image from: https://www.pexels.com/photo/scarlet-macaw-1618424/\n",
    "# Photographer: Tim Mossholder\n",
    "\n",
    "image_path = \"ExampleImages/Macaw.jpeg\"\n",
    "color_list = [\n",
    "    (255, 5, 0), # Red\n",
    "    (2, 94, 3), # Dark Green\n",
    "    (0, 0, 255), # Blue\n",
    "    (216, 235, 52), # Yellow\n",
    "    (0,0,0), # Black\n",
    "    (255, 255, 255), # White\n",
    "]\n",
    "\n",
    "config = {\n",
    "    \"denoise\": True,\n",
    "    \"denoise_h\": 100,\n",
    "    \"border_padding\": 2,\n",
    "    \"area_perc_threshold\": 0.5,\n",
    "    \"arc_length_area_ratio_threshold\": 1,\n",
    "    \"border_color\": (0, 0, 0),\n",
    "    \"font_size\": 0.5,\n",
    "    \"font_color\": (0, 0, 0),\n",
    "    \"font_thickness\": 1,\n",
    "}\n",
    "\n",
    "colorbynumber_obj = ColorByNumber(\n",
    "    image_path = image_path, \n",
    "    color_list = color_list,\n",
    "    config = config,\n",
    ")\n",
    "numbered_islands = colorbynumber_obj.create_color_by_number()\n",
    "utils.show_image(numbered_islands, cmap = 'grey')"
   ]
  },
  {
   "cell_type": "code",
   "execution_count": null,
   "id": "b278a3ff-907b-43db-b7c8-c84803a4c1a7",
   "metadata": {},
   "outputs": [],
   "source": [
    "utils.save_image(numbered_islands, \"Macaw_with_numbers_05_perc.png\")"
   ]
  }
 ],
 "metadata": {
  "kernelspec": {
   "display_name": "Python 3",
   "language": "python",
   "name": "python3"
  },
  "language_info": {
   "codemirror_mode": {
    "name": "ipython",
    "version": 3
   },
   "file_extension": ".py",
   "mimetype": "text/x-python",
   "name": "python",
   "nbconvert_exporter": "python",
   "pygments_lexer": "ipython3",
   "version": "3.9.18"
  }
 },
 "nbformat": 4,
 "nbformat_minor": 5
}
