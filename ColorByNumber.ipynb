{
 "cells": [
  {
   "cell_type": "code",
   "execution_count": null,
   "id": "af221ec3-755c-42d5-8bb4-739644c482b6",
   "metadata": {},
   "outputs": [],
   "source": [
    "import cv2\n",
    "\n",
    "from colorbynumber.utils import show_image\n",
    "from colorbynumber.simplify_image import simplify_image"
   ]
  },
  {
   "cell_type": "code",
   "execution_count": null,
   "id": "497a508a-87fc-49f7-baca-3505ff0b57f1",
   "metadata": {},
   "outputs": [],
   "source": [
    "# Image from: https://www.pexels.com/photo/scarlet-macaw-1618424/\n",
    "# Photographer: Tim Mossholder\n",
    "\n",
    "image = cv2.imread(\"ExampleImages/Macaw.jpeg\")\n",
    "image = cv2.cvtColor(image, cv2.COLOR_BGR2RGB)\n",
    "show_image(image)"
   ]
  },
  {
   "cell_type": "code",
   "execution_count": null,
   "id": "7368c3bd-a7a6-467b-be90-cf628d5b3b81",
   "metadata": {},
   "outputs": [],
   "source": [
    "color_list = [\n",
    "    (255, 0, 0), # Red\n",
    "    (0, 255, 0), # Green\n",
    "    (0, 0, 255), # Blue\n",
    "]\n",
    "simplified_image = simplify_image(image, color_list)\n",
    "show_image(simplified_image)"
   ]
  }
 ],
 "metadata": {
  "kernelspec": {
   "display_name": "Python 3",
   "language": "python",
   "name": "python3"
  },
  "language_info": {
   "codemirror_mode": {
    "name": "ipython",
    "version": 3
   },
   "file_extension": ".py",
   "mimetype": "text/x-python",
   "name": "python",
   "nbconvert_exporter": "python",
   "pygments_lexer": "ipython3",
   "version": "3.9.18"
  }
 },
 "nbformat": 4,
 "nbformat_minor": 5
}
